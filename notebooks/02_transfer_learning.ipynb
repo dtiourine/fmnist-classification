{
 "cells": [
  {
   "cell_type": "code",
   "id": "initial_id",
   "metadata": {
    "collapsed": true,
    "ExecuteTime": {
     "end_time": "2025-06-14T14:02:06.805232Z",
     "start_time": "2025-06-14T14:02:04.246713Z"
    }
   },
   "source": [
    "import torch\n",
    "import torch.nn as nn\n",
    "import torchvision.models as models\n",
    "from torchsummary import summary"
   ],
   "outputs": [],
   "execution_count": 1
  },
  {
   "metadata": {},
   "cell_type": "markdown",
   "source": "Load model and dataset",
   "id": "f0f8e32527cd6403"
  },
  {
   "metadata": {
    "ExecuteTime": {
     "end_time": "2025-06-14T14:02:07.020254Z",
     "start_time": "2025-06-14T14:02:06.806234Z"
    }
   },
   "cell_type": "code",
   "source": [
    "from src.dataset import get_data\n",
    "\n",
    "train_loader, val_loader, test_loader = get_data()"
   ],
   "id": "d3a4800b3d28f4ab",
   "outputs": [
    {
     "name": "stderr",
     "output_type": "stream",
     "text": [
      "\u001B[32m2025-06-14 10:02:06.828\u001B[0m | \u001B[1mINFO    \u001B[0m | \u001B[36msrc.config\u001B[0m:\u001B[36m<module>\u001B[0m:\u001B[36m11\u001B[0m - \u001B[1mPROJ_ROOT path is: C:\\Git\\fmnist-classification\u001B[0m\n"
     ]
    }
   ],
   "execution_count": 2
  },
  {
   "metadata": {
    "ExecuteTime": {
     "end_time": "2025-06-14T14:02:07.414832Z",
     "start_time": "2025-06-14T14:02:07.020757Z"
    }
   },
   "cell_type": "code",
   "source": [
    "model = models.efficientnet_b0(weights=\"IMAGENET1K_V1\")\n",
    "summary(model, (3, 224, 224))"
   ],
   "id": "bcb9c24351cf62ea",
   "outputs": [
    {
     "name": "stdout",
     "output_type": "stream",
     "text": [
      "===============================================================================================\n",
      "Layer (type:depth-idx)                        Output Shape              Param #\n",
      "===============================================================================================\n",
      "├─Sequential: 1-1                             [-1, 1280, 7, 7]          --\n",
      "|    └─Conv2dNormActivation: 2-1              [-1, 32, 112, 112]        --\n",
      "|    |    └─Conv2d: 3-1                       [-1, 32, 112, 112]        864\n",
      "|    |    └─BatchNorm2d: 3-2                  [-1, 32, 112, 112]        64\n",
      "|    |    └─SiLU: 3-3                         [-1, 32, 112, 112]        --\n",
      "|    └─Sequential: 2-2                        [-1, 16, 112, 112]        --\n",
      "|    |    └─MBConv: 3-4                       [-1, 16, 112, 112]        1,448\n",
      "|    └─Sequential: 2-3                        [-1, 24, 56, 56]          --\n",
      "|    |    └─MBConv: 3-5                       [-1, 24, 56, 56]          6,004\n",
      "|    |    └─MBConv: 3-6                       [-1, 24, 56, 56]          10,710\n",
      "|    └─Sequential: 2-4                        [-1, 40, 28, 28]          --\n",
      "|    |    └─MBConv: 3-7                       [-1, 40, 28, 28]          15,350\n",
      "|    |    └─MBConv: 3-8                       [-1, 40, 28, 28]          31,290\n",
      "|    └─Sequential: 2-5                        [-1, 80, 14, 14]          --\n",
      "|    |    └─MBConv: 3-9                       [-1, 80, 14, 14]          37,130\n",
      "|    |    └─MBConv: 3-10                      [-1, 80, 14, 14]          102,900\n",
      "|    |    └─MBConv: 3-11                      [-1, 80, 14, 14]          102,900\n",
      "|    └─Sequential: 2-6                        [-1, 112, 14, 14]         --\n",
      "|    |    └─MBConv: 3-12                      [-1, 112, 14, 14]         126,004\n",
      "|    |    └─MBConv: 3-13                      [-1, 112, 14, 14]         208,572\n",
      "|    |    └─MBConv: 3-14                      [-1, 112, 14, 14]         208,572\n",
      "|    └─Sequential: 2-7                        [-1, 192, 7, 7]           --\n",
      "|    |    └─MBConv: 3-15                      [-1, 192, 7, 7]           262,492\n",
      "|    |    └─MBConv: 3-16                      [-1, 192, 7, 7]           587,952\n",
      "|    |    └─MBConv: 3-17                      [-1, 192, 7, 7]           587,952\n",
      "|    |    └─MBConv: 3-18                      [-1, 192, 7, 7]           587,952\n",
      "|    └─Sequential: 2-8                        [-1, 320, 7, 7]           --\n",
      "|    |    └─MBConv: 3-19                      [-1, 320, 7, 7]           717,232\n",
      "|    └─Conv2dNormActivation: 2-9              [-1, 1280, 7, 7]          --\n",
      "|    |    └─Conv2d: 3-20                      [-1, 1280, 7, 7]          409,600\n",
      "|    |    └─BatchNorm2d: 3-21                 [-1, 1280, 7, 7]          2,560\n",
      "|    |    └─SiLU: 3-22                        [-1, 1280, 7, 7]          --\n",
      "├─AdaptiveAvgPool2d: 1-2                      [-1, 1280, 1, 1]          --\n",
      "├─Sequential: 1-3                             [-1, 1000]                --\n",
      "|    └─Dropout: 2-10                          [-1, 1280]                --\n",
      "|    └─Linear: 2-11                           [-1, 1000]                1,281,000\n",
      "===============================================================================================\n",
      "Total params: 5,288,548\n",
      "Trainable params: 5,288,548\n",
      "Non-trainable params: 0\n",
      "Total mult-adds (M): 48.55\n",
      "===============================================================================================\n",
      "Input size (MB): 0.57\n",
      "Forward/backward pass size (MB): 7.09\n",
      "Params size (MB): 20.17\n",
      "Estimated Total Size (MB): 27.84\n",
      "===============================================================================================\n"
     ]
    },
    {
     "data": {
      "text/plain": [
       "===============================================================================================\n",
       "Layer (type:depth-idx)                        Output Shape              Param #\n",
       "===============================================================================================\n",
       "├─Sequential: 1-1                             [-1, 1280, 7, 7]          --\n",
       "|    └─Conv2dNormActivation: 2-1              [-1, 32, 112, 112]        --\n",
       "|    |    └─Conv2d: 3-1                       [-1, 32, 112, 112]        864\n",
       "|    |    └─BatchNorm2d: 3-2                  [-1, 32, 112, 112]        64\n",
       "|    |    └─SiLU: 3-3                         [-1, 32, 112, 112]        --\n",
       "|    └─Sequential: 2-2                        [-1, 16, 112, 112]        --\n",
       "|    |    └─MBConv: 3-4                       [-1, 16, 112, 112]        1,448\n",
       "|    └─Sequential: 2-3                        [-1, 24, 56, 56]          --\n",
       "|    |    └─MBConv: 3-5                       [-1, 24, 56, 56]          6,004\n",
       "|    |    └─MBConv: 3-6                       [-1, 24, 56, 56]          10,710\n",
       "|    └─Sequential: 2-4                        [-1, 40, 28, 28]          --\n",
       "|    |    └─MBConv: 3-7                       [-1, 40, 28, 28]          15,350\n",
       "|    |    └─MBConv: 3-8                       [-1, 40, 28, 28]          31,290\n",
       "|    └─Sequential: 2-5                        [-1, 80, 14, 14]          --\n",
       "|    |    └─MBConv: 3-9                       [-1, 80, 14, 14]          37,130\n",
       "|    |    └─MBConv: 3-10                      [-1, 80, 14, 14]          102,900\n",
       "|    |    └─MBConv: 3-11                      [-1, 80, 14, 14]          102,900\n",
       "|    └─Sequential: 2-6                        [-1, 112, 14, 14]         --\n",
       "|    |    └─MBConv: 3-12                      [-1, 112, 14, 14]         126,004\n",
       "|    |    └─MBConv: 3-13                      [-1, 112, 14, 14]         208,572\n",
       "|    |    └─MBConv: 3-14                      [-1, 112, 14, 14]         208,572\n",
       "|    └─Sequential: 2-7                        [-1, 192, 7, 7]           --\n",
       "|    |    └─MBConv: 3-15                      [-1, 192, 7, 7]           262,492\n",
       "|    |    └─MBConv: 3-16                      [-1, 192, 7, 7]           587,952\n",
       "|    |    └─MBConv: 3-17                      [-1, 192, 7, 7]           587,952\n",
       "|    |    └─MBConv: 3-18                      [-1, 192, 7, 7]           587,952\n",
       "|    └─Sequential: 2-8                        [-1, 320, 7, 7]           --\n",
       "|    |    └─MBConv: 3-19                      [-1, 320, 7, 7]           717,232\n",
       "|    └─Conv2dNormActivation: 2-9              [-1, 1280, 7, 7]          --\n",
       "|    |    └─Conv2d: 3-20                      [-1, 1280, 7, 7]          409,600\n",
       "|    |    └─BatchNorm2d: 3-21                 [-1, 1280, 7, 7]          2,560\n",
       "|    |    └─SiLU: 3-22                        [-1, 1280, 7, 7]          --\n",
       "├─AdaptiveAvgPool2d: 1-2                      [-1, 1280, 1, 1]          --\n",
       "├─Sequential: 1-3                             [-1, 1000]                --\n",
       "|    └─Dropout: 2-10                          [-1, 1280]                --\n",
       "|    └─Linear: 2-11                           [-1, 1000]                1,281,000\n",
       "===============================================================================================\n",
       "Total params: 5,288,548\n",
       "Trainable params: 5,288,548\n",
       "Non-trainable params: 0\n",
       "Total mult-adds (M): 48.55\n",
       "===============================================================================================\n",
       "Input size (MB): 0.57\n",
       "Forward/backward pass size (MB): 7.09\n",
       "Params size (MB): 20.17\n",
       "Estimated Total Size (MB): 27.84\n",
       "==============================================================================================="
      ]
     },
     "execution_count": 3,
     "metadata": {},
     "output_type": "execute_result"
    }
   ],
   "execution_count": 3
  },
  {
   "metadata": {
    "ExecuteTime": {
     "end_time": "2025-06-14T14:02:07.419341Z",
     "start_time": "2025-06-14T14:02:07.415335Z"
    }
   },
   "cell_type": "code",
   "source": [
    "num_features = model.classifier[1].in_features\n",
    "num_classes = 10\n",
    "\n",
    "model.classifier = nn.Sequential(\n",
    "        nn.Dropout(0.1),\n",
    "        nn.Linear(num_features, num_classes)\n",
    "    )"
   ],
   "id": "685d5f431c3af838",
   "outputs": [],
   "execution_count": 4
  },
  {
   "metadata": {},
   "cell_type": "markdown",
   "source": "Stage 1: Freeze base model parameters and train only the classifier head",
   "id": "93b0d022c1fd0794"
  },
  {
   "metadata": {
    "ExecuteTime": {
     "end_time": "2025-06-14T14:02:07.424902Z",
     "start_time": "2025-06-14T14:02:07.420850Z"
    }
   },
   "cell_type": "code",
   "source": [
    "for param in model.parameters():\n",
    "    param.requires_grad = False\n",
    "    \n",
    "for param in model.classifier.parameters():\n",
    "    param.requires_grad = True"
   ],
   "id": "b60f23083ed79677",
   "outputs": [],
   "execution_count": 5
  },
  {
   "metadata": {
    "ExecuteTime": {
     "end_time": "2025-06-14T14:14:24.942306Z",
     "start_time": "2025-06-14T14:02:07.424902Z"
    }
   },
   "cell_type": "code",
   "source": [
    "from src.modeling.train import train_model\n",
    "\n",
    "model, history1 = train_model(model, train_loader, val_loader, num_epochs=8, lr=0.001)"
   ],
   "id": "72e4706c6a6dedab",
   "outputs": [
    {
     "name": "stderr",
     "output_type": "stream",
     "text": [
      "Epoch 1/8: 100%|██████████| 750/750 [01:24<00:00,  8.87it/s]\n"
     ]
    },
    {
     "name": "stdout",
     "output_type": "stream",
     "text": [
      "Epoch [1/8]:\n",
      "  Train Loss: 0.7487, Train Acc: 76.35%\n",
      "  Val Loss: 0.5193, Val Acc: 82.25%\n"
     ]
    },
    {
     "name": "stderr",
     "output_type": "stream",
     "text": [
      "Epoch 2/8: 100%|██████████| 750/750 [01:23<00:00,  8.95it/s]\n"
     ]
    },
    {
     "name": "stdout",
     "output_type": "stream",
     "text": [
      "Epoch [2/8]:\n",
      "  Train Loss: 0.5582, Train Acc: 80.43%\n",
      "  Val Loss: 0.4646, Val Acc: 83.56%\n"
     ]
    },
    {
     "name": "stderr",
     "output_type": "stream",
     "text": [
      "Epoch 3/8: 100%|██████████| 750/750 [01:22<00:00,  9.12it/s]\n"
     ]
    },
    {
     "name": "stdout",
     "output_type": "stream",
     "text": [
      "Epoch [3/8]:\n",
      "  Train Loss: 0.5255, Train Acc: 81.46%\n",
      "  Val Loss: 0.4613, Val Acc: 83.78%\n"
     ]
    },
    {
     "name": "stderr",
     "output_type": "stream",
     "text": [
      "Epoch 4/8: 100%|██████████| 750/750 [01:18<00:00,  9.51it/s]\n"
     ]
    },
    {
     "name": "stdout",
     "output_type": "stream",
     "text": [
      "Epoch [4/8]:\n",
      "  Train Loss: 0.5081, Train Acc: 81.85%\n",
      "  Val Loss: 0.4364, Val Acc: 84.44%\n"
     ]
    },
    {
     "name": "stderr",
     "output_type": "stream",
     "text": [
      "Epoch 5/8: 100%|██████████| 750/750 [01:16<00:00,  9.81it/s]\n"
     ]
    },
    {
     "name": "stdout",
     "output_type": "stream",
     "text": [
      "Epoch [5/8]:\n",
      "  Train Loss: 0.5007, Train Acc: 82.21%\n",
      "  Val Loss: 0.4372, Val Acc: 84.24%\n"
     ]
    },
    {
     "name": "stderr",
     "output_type": "stream",
     "text": [
      "Epoch 6/8: 100%|██████████| 750/750 [01:16<00:00,  9.78it/s]\n"
     ]
    },
    {
     "name": "stdout",
     "output_type": "stream",
     "text": [
      "Epoch [6/8]:\n",
      "  Train Loss: 0.4942, Train Acc: 82.25%\n",
      "  Val Loss: 0.4339, Val Acc: 84.01%\n"
     ]
    },
    {
     "name": "stderr",
     "output_type": "stream",
     "text": [
      "Epoch 7/8: 100%|██████████| 750/750 [01:16<00:00,  9.81it/s]\n"
     ]
    },
    {
     "name": "stdout",
     "output_type": "stream",
     "text": [
      "Epoch [7/8]:\n",
      "  Train Loss: 0.4932, Train Acc: 82.43%\n",
      "  Val Loss: 0.4298, Val Acc: 84.22%\n"
     ]
    },
    {
     "name": "stderr",
     "output_type": "stream",
     "text": [
      "Epoch 8/8: 100%|██████████| 750/750 [01:17<00:00,  9.74it/s]\n"
     ]
    },
    {
     "name": "stdout",
     "output_type": "stream",
     "text": [
      "Epoch [8/8]:\n",
      "  Train Loss: 0.4848, Train Acc: 82.61%\n",
      "  Val Loss: 0.4220, Val Acc: 84.35%\n"
     ]
    }
   ],
   "execution_count": 6
  },
  {
   "metadata": {
    "ExecuteTime": {
     "end_time": "2025-06-14T14:14:24.945310Z",
     "start_time": "2025-06-14T14:14:24.943311Z"
    }
   },
   "cell_type": "code",
   "source": "",
   "id": "5bf46d8effcaa91b",
   "outputs": [],
   "execution_count": 6
  },
  {
   "metadata": {},
   "cell_type": "markdown",
   "source": "Stage 2: Unfreeze and fine-tune the entire model ",
   "id": "4d92a7d7600a429"
  },
  {
   "metadata": {
    "ExecuteTime": {
     "end_time": "2025-06-14T14:14:24.948943Z",
     "start_time": "2025-06-14T14:14:24.945813Z"
    }
   },
   "cell_type": "code",
   "source": [
    "for param in model.parameters():\n",
    "    param.requires_grad = True"
   ],
   "id": "23db567b824dc8d7",
   "outputs": [],
   "execution_count": 7
  },
  {
   "metadata": {
    "ExecuteTime": {
     "end_time": "2025-06-14T14:40:04.917485Z",
     "start_time": "2025-06-14T14:14:24.949946Z"
    }
   },
   "cell_type": "code",
   "source": [
    "model, history2 = train_model(model, train_loader, val_loader, \n",
    "                                 num_epochs=10, lr=0.0005)"
   ],
   "id": "56ee18e0712e0c95",
   "outputs": [
    {
     "name": "stderr",
     "output_type": "stream",
     "text": [
      "Epoch 1/10: 100%|██████████| 750/750 [02:21<00:00,  5.29it/s]\n"
     ]
    },
    {
     "name": "stdout",
     "output_type": "stream",
     "text": [
      "Epoch [1/10]:\n",
      "  Train Loss: 0.2930, Train Acc: 89.57%\n",
      "  Val Loss: 0.2221, Val Acc: 91.89%\n"
     ]
    },
    {
     "name": "stderr",
     "output_type": "stream",
     "text": [
      "Epoch 2/10: 100%|██████████| 750/750 [02:22<00:00,  5.26it/s]\n"
     ]
    },
    {
     "name": "stdout",
     "output_type": "stream",
     "text": [
      "Epoch [2/10]:\n",
      "  Train Loss: 0.1938, Train Acc: 92.87%\n",
      "  Val Loss: 0.1811, Val Acc: 93.56%\n"
     ]
    },
    {
     "name": "stderr",
     "output_type": "stream",
     "text": [
      "Epoch 3/10: 100%|██████████| 750/750 [02:21<00:00,  5.30it/s]\n"
     ]
    },
    {
     "name": "stdout",
     "output_type": "stream",
     "text": [
      "Epoch [3/10]:\n",
      "  Train Loss: 0.1618, Train Acc: 94.15%\n",
      "  Val Loss: 0.1774, Val Acc: 93.70%\n"
     ]
    },
    {
     "name": "stderr",
     "output_type": "stream",
     "text": [
      "Epoch 4/10: 100%|██████████| 750/750 [02:23<00:00,  5.21it/s]\n"
     ]
    },
    {
     "name": "stdout",
     "output_type": "stream",
     "text": [
      "Epoch [4/10]:\n",
      "  Train Loss: 0.1420, Train Acc: 94.82%\n",
      "  Val Loss: 0.1671, Val Acc: 94.12%\n"
     ]
    },
    {
     "name": "stderr",
     "output_type": "stream",
     "text": [
      "Epoch 5/10: 100%|██████████| 750/750 [02:23<00:00,  5.22it/s]\n"
     ]
    },
    {
     "name": "stdout",
     "output_type": "stream",
     "text": [
      "Epoch [5/10]:\n",
      "  Train Loss: 0.1293, Train Acc: 95.31%\n",
      "  Val Loss: 0.1855, Val Acc: 93.77%\n"
     ]
    },
    {
     "name": "stderr",
     "output_type": "stream",
     "text": [
      "Epoch 6/10: 100%|██████████| 750/750 [02:22<00:00,  5.27it/s]\n"
     ]
    },
    {
     "name": "stdout",
     "output_type": "stream",
     "text": [
      "Epoch [6/10]:\n",
      "  Train Loss: 0.1136, Train Acc: 95.88%\n",
      "  Val Loss: 0.1765, Val Acc: 93.78%\n"
     ]
    },
    {
     "name": "stderr",
     "output_type": "stream",
     "text": [
      "Epoch 7/10: 100%|██████████| 750/750 [02:22<00:00,  5.28it/s]\n"
     ]
    },
    {
     "name": "stdout",
     "output_type": "stream",
     "text": [
      "Epoch [7/10]:\n",
      "  Train Loss: 0.1044, Train Acc: 96.12%\n",
      "  Val Loss: 0.1651, Val Acc: 94.35%\n"
     ]
    },
    {
     "name": "stderr",
     "output_type": "stream",
     "text": [
      "Epoch 8/10: 100%|██████████| 750/750 [02:19<00:00,  5.36it/s]\n"
     ]
    },
    {
     "name": "stdout",
     "output_type": "stream",
     "text": [
      "Epoch [8/10]:\n",
      "  Train Loss: 0.0935, Train Acc: 96.53%\n",
      "  Val Loss: 0.1837, Val Acc: 94.37%\n"
     ]
    },
    {
     "name": "stderr",
     "output_type": "stream",
     "text": [
      "Epoch 9/10: 100%|██████████| 750/750 [02:17<00:00,  5.44it/s]\n"
     ]
    },
    {
     "name": "stdout",
     "output_type": "stream",
     "text": [
      "Epoch [9/10]:\n",
      "  Train Loss: 0.0847, Train Acc: 96.84%\n",
      "  Val Loss: 0.1819, Val Acc: 94.39%\n"
     ]
    },
    {
     "name": "stderr",
     "output_type": "stream",
     "text": [
      "Epoch 10/10: 100%|██████████| 750/750 [02:16<00:00,  5.49it/s]\n"
     ]
    },
    {
     "name": "stdout",
     "output_type": "stream",
     "text": [
      "Epoch [10/10]:\n",
      "  Train Loss: 0.0766, Train Acc: 97.20%\n",
      "  Val Loss: 0.1723, Val Acc: 94.63%\n"
     ]
    }
   ],
   "execution_count": 8
  },
  {
   "metadata": {
    "ExecuteTime": {
     "end_time": "2025-06-14T14:40:05.263655Z",
     "start_time": "2025-06-14T14:40:04.918783Z"
    }
   },
   "cell_type": "code",
   "source": [
    "import matplotlib.pyplot as plt \n",
    "\n",
    "def plot_training_history(history1, history2):\n",
    "    # Combine histories from both stages\n",
    "    train_loss = history1[\"train_loss\"] + history2[\"train_loss\"]\n",
    "    train_acc = history1[\"train_accuracy\"] + history2[\"train_accuracy\"]\n",
    "    val_loss = history1[\"val_loss\"] + history2[\"val_loss\"]\n",
    "    val_acc = history1[\"val_accuracy\"] + history2[\"val_accuracy\"]\n",
    "    \n",
    "    epochs = range(1, len(train_loss) + 1)\n",
    "    stage1_epochs = len(history1[\"train_loss\"])\n",
    "    \n",
    "    # Create subplots\n",
    "    fig, (ax1, ax2) = plt.subplots(1, 2, figsize=(15, 5))\n",
    "    \n",
    "    # Plot Loss\n",
    "    ax1.plot(epochs, train_loss, 'b-', label='Training Loss', linewidth=2)\n",
    "    ax1.plot(epochs, val_loss, 'r-', label='Validation Loss', linewidth=2)\n",
    "    ax1.axvline(x=stage1_epochs + 0.5, color='gray', linestyle='--', alpha=0.7, \n",
    "                label='Stage 1 → Stage 2')\n",
    "    ax1.set_title('Training and Validation Loss')\n",
    "    ax1.set_xlabel('Epoch')\n",
    "    ax1.set_ylabel('Loss')\n",
    "    ax1.legend()\n",
    "    ax1.grid(True, alpha=0.3)\n",
    "    \n",
    "    # Add stage annotations\n",
    "    ax1.text(stage1_epochs/2, max(train_loss) * 0.9, 'Stage 1\\n(Classifier Only)', \n",
    "             ha='center', va='center', bbox=dict(boxstyle=\"round,pad=0.3\", facecolor=\"lightblue\"))\n",
    "    ax1.text(stage1_epochs + (len(epochs) - stage1_epochs)/2, max(train_loss) * 0.9, \n",
    "             'Stage 2\\n(Fine-tuning)', ha='center', va='center', \n",
    "             bbox=dict(boxstyle=\"round,pad=0.3\", facecolor=\"lightgreen\"))\n",
    "    \n",
    "    # Plot Accuracy\n",
    "    ax2.plot(epochs, train_acc, 'b-', label='Training Accuracy', linewidth=2)\n",
    "    ax2.plot(epochs, val_acc, 'r-', label='Validation Accuracy', linewidth=2)\n",
    "    ax2.axvline(x=stage1_epochs + 0.5, color='gray', linestyle='--', alpha=0.7,\n",
    "                label='Stage 1 → Stage 2')\n",
    "    ax2.set_title('Training and Validation Accuracy')\n",
    "    ax2.set_xlabel('Epoch')\n",
    "    ax2.set_ylabel('Accuracy (%)')\n",
    "    ax2.legend()\n",
    "    ax2.grid(True, alpha=0.3)\n",
    "    \n",
    "    # Add stage annotations\n",
    "    ax2.text(stage1_epochs/2, min(train_acc) + (max(train_acc) - min(train_acc)) * 0.1, \n",
    "             'Stage 1\\n(Classifier Only)', ha='center', va='center', \n",
    "             bbox=dict(boxstyle=\"round,pad=0.3\", facecolor=\"lightblue\"))\n",
    "    ax2.text(stage1_epochs + (len(epochs) - stage1_epochs)/2, \n",
    "             min(train_acc) + (max(train_acc) - min(train_acc)) * 0.1, \n",
    "             'Stage 2\\n(Fine-tuning)', ha='center', va='center', \n",
    "             bbox=dict(boxstyle=\"round,pad=0.3\", facecolor=\"lightgreen\"))\n",
    "    \n",
    "    plt.tight_layout()\n",
    "    plt.show()\n",
    "    \n",
    "    # Print summary stats\n",
    "    print(f\"Stage 1 - Final Train Acc: {history1['train_accuracy'][-1]:.2f}%, Val Acc: {history1['val_accuracy'][-1]:.2f}%\")\n",
    "    print(f\"Stage 2 - Final Train Acc: {history2['train_accuracy'][-1]:.2f}%, Val Acc: {history2['val_accuracy'][-1]:.2f}%\")\n",
    "    print(f\"Best Validation Accuracy: {max(val_acc):.2f}%\")"
   ],
   "id": "8f159d947392dbe5",
   "outputs": [],
   "execution_count": 9
  },
  {
   "metadata": {
    "ExecuteTime": {
     "end_time": "2025-06-14T14:40:05.454727Z",
     "start_time": "2025-06-14T14:40:05.263655Z"
    }
   },
   "cell_type": "code",
   "source": "plot_training_history(history1, history2)",
   "id": "73f437dbfab18e38",
   "outputs": [
    {
     "data": {
      "text/plain": [
       "<Figure size 1500x500 with 2 Axes>"
      ],
      "image/png": "[encoded data removed]"
     },
     "metadata": {},
     "output_type": "display_data"
    },
    {
     "name": "stdout",
     "output_type": "stream",
     "text": [
      "Stage 1 - Final Train Acc: 82.61%, Val Acc: 84.35%\n",
      "Stage 2 - Final Train Acc: 97.20%, Val Acc: 94.63%\n",
      "Best Validation Accuracy: 94.63%\n"
     ]
    }
   ],
   "execution_count": 10
  },
  {
   "metadata": {
    "ExecuteTime": {
     "end_time": "2025-06-14T15:04:04.995340Z",
     "start_time": "2025-06-14T15:03:54.503917Z"
    }
   },
   "cell_type": "code",
   "source": [
    "from sklearn.metrics import accuracy_score\n",
    "\n",
    "model.eval()\n",
    "\n",
    "all_predictions = []\n",
    "all_labels = []\n",
    "\n",
    "device = \"cuda\" if torch.cuda.is_available() else \"cpu\"\n",
    "\n",
    "with torch.no_grad():\n",
    "    for images, labels in test_loader:\n",
    "        images = images.to(device)\n",
    "        labels = labels.to(device)\n",
    "        \n",
    "        outputs = model(images)\n",
    "        _, predictions = torch.max(outputs, 1)\n",
    "        \n",
    "        all_predictions.extend(predictions.cpu().numpy())\n",
    "        all_labels.extend(labels.cpu().numpy())\n",
    "        \n",
    "test_accuracy = accuracy_score(all_labels, all_predictions)\n",
    "print(f\"Test Accuracy: {test_accuracy:.4f} ({test_accuracy*100:.2f}%)\")"
   ],
   "id": "5ab5da9312d01e8",
   "outputs": [
    {
     "name": "stdout",
     "output_type": "stream",
     "text": [
      "Test Accuracy: 0.9431 (94.31%)\n"
     ]
    }
   ],
   "execution_count": 12
  }
 ],
 "metadata": {
  "kernelspec": {
   "display_name": "Python 3",
   "language": "python",
   "name": "python3"
  },
  "language_info": {
   "codemirror_mode": {
    "name": "ipython",
    "version": 2
   },
   "file_extension": ".py",
   "mimetype": "text/x-python",
   "name": "python",
   "nbconvert_exporter": "python",
   "pygments_lexer": "ipython2",
   "version": "2.7.6"
  }
 },
 "nbformat": 4,
 "nbformat_minor": 5
}
