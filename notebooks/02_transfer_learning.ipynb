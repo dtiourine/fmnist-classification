{
 "cells": [
  {
   "cell_type": "code",
   "id": "initial_id",
   "metadata": {
    "collapsed": true,
    "ExecuteTime": {
     "end_time": "2025-06-04T14:47:30.748423Z",
     "start_time": "2025-06-04T14:47:28.690059Z"
    }
   },
   "source": [
    "import torch\n",
    "import torch.nn as nn\n",
    "import torchvision.models as models\n",
    "from torchsummary import summary"
   ],
   "outputs": [],
   "execution_count": 1
  },
  {
   "metadata": {},
   "cell_type": "markdown",
   "source": "Load model and dataset",
   "id": "f0f8e32527cd6403"
  },
  {
   "metadata": {
    "ExecuteTime": {
     "end_time": "2025-06-04T14:47:30.892674Z",
     "start_time": "2025-06-04T14:47:30.749427Z"
    }
   },
   "cell_type": "code",
   "source": [
    "from src.dataset import get_data\n",
    "\n",
    "train_loader, val_loader, test_loader = get_data()"
   ],
   "id": "d3a4800b3d28f4ab",
   "outputs": [
    {
     "name": "stderr",
     "output_type": "stream",
     "text": [
      "\u001B[32m2025-06-04 10:47:30.764\u001B[0m | \u001B[1mINFO    \u001B[0m | \u001B[36msrc.config\u001B[0m:\u001B[36m<module>\u001B[0m:\u001B[36m11\u001B[0m - \u001B[1mPROJ_ROOT path is: C:\\Git\\fmnist-classification\u001B[0m\n"
     ]
    }
   ],
   "execution_count": 2
  },
  {
   "metadata": {
    "ExecuteTime": {
     "end_time": "2025-06-04T14:47:31.236230Z",
     "start_time": "2025-06-04T14:47:30.893678Z"
    }
   },
   "cell_type": "code",
   "source": [
    "model = models.efficientnet_b0(weights=\"IMAGENET1K_V1\")\n",
    "summary(model, (3, 224, 224))"
   ],
   "id": "bcb9c24351cf62ea",
   "outputs": [
    {
     "name": "stdout",
     "output_type": "stream",
     "text": [
      "===============================================================================================\n",
      "Layer (type:depth-idx)                        Output Shape              Param #\n",
      "===============================================================================================\n",
      "├─Sequential: 1-1                             [-1, 1280, 7, 7]          --\n",
      "|    └─Conv2dNormActivation: 2-1              [-1, 32, 112, 112]        --\n",
      "|    |    └─Conv2d: 3-1                       [-1, 32, 112, 112]        864\n",
      "|    |    └─BatchNorm2d: 3-2                  [-1, 32, 112, 112]        64\n",
      "|    |    └─SiLU: 3-3                         [-1, 32, 112, 112]        --\n",
      "|    └─Sequential: 2-2                        [-1, 16, 112, 112]        --\n",
      "|    |    └─MBConv: 3-4                       [-1, 16, 112, 112]        1,448\n",
      "|    └─Sequential: 2-3                        [-1, 24, 56, 56]          --\n",
      "|    |    └─MBConv: 3-5                       [-1, 24, 56, 56]          6,004\n",
      "|    |    └─MBConv: 3-6                       [-1, 24, 56, 56]          10,710\n",
      "|    └─Sequential: 2-4                        [-1, 40, 28, 28]          --\n",
      "|    |    └─MBConv: 3-7                       [-1, 40, 28, 28]          15,350\n",
      "|    |    └─MBConv: 3-8                       [-1, 40, 28, 28]          31,290\n",
      "|    └─Sequential: 2-5                        [-1, 80, 14, 14]          --\n",
      "|    |    └─MBConv: 3-9                       [-1, 80, 14, 14]          37,130\n",
      "|    |    └─MBConv: 3-10                      [-1, 80, 14, 14]          102,900\n",
      "|    |    └─MBConv: 3-11                      [-1, 80, 14, 14]          102,900\n",
      "|    └─Sequential: 2-6                        [-1, 112, 14, 14]         --\n",
      "|    |    └─MBConv: 3-12                      [-1, 112, 14, 14]         126,004\n",
      "|    |    └─MBConv: 3-13                      [-1, 112, 14, 14]         208,572\n",
      "|    |    └─MBConv: 3-14                      [-1, 112, 14, 14]         208,572\n",
      "|    └─Sequential: 2-7                        [-1, 192, 7, 7]           --\n",
      "|    |    └─MBConv: 3-15                      [-1, 192, 7, 7]           262,492\n",
      "|    |    └─MBConv: 3-16                      [-1, 192, 7, 7]           587,952\n",
      "|    |    └─MBConv: 3-17                      [-1, 192, 7, 7]           587,952\n",
      "|    |    └─MBConv: 3-18                      [-1, 192, 7, 7]           587,952\n",
      "|    └─Sequential: 2-8                        [-1, 320, 7, 7]           --\n",
      "|    |    └─MBConv: 3-19                      [-1, 320, 7, 7]           717,232\n",
      "|    └─Conv2dNormActivation: 2-9              [-1, 1280, 7, 7]          --\n",
      "|    |    └─Conv2d: 3-20                      [-1, 1280, 7, 7]          409,600\n",
      "|    |    └─BatchNorm2d: 3-21                 [-1, 1280, 7, 7]          2,560\n",
      "|    |    └─SiLU: 3-22                        [-1, 1280, 7, 7]          --\n",
      "├─AdaptiveAvgPool2d: 1-2                      [-1, 1280, 1, 1]          --\n",
      "├─Sequential: 1-3                             [-1, 1000]                --\n",
      "|    └─Dropout: 2-10                          [-1, 1280]                --\n",
      "|    └─Linear: 2-11                           [-1, 1000]                1,281,000\n",
      "===============================================================================================\n",
      "Total params: 5,288,548\n",
      "Trainable params: 5,288,548\n",
      "Non-trainable params: 0\n",
      "Total mult-adds (M): 48.55\n",
      "===============================================================================================\n",
      "Input size (MB): 0.57\n",
      "Forward/backward pass size (MB): 7.09\n",
      "Params size (MB): 20.17\n",
      "Estimated Total Size (MB): 27.84\n",
      "===============================================================================================\n"
     ]
    },
    {
     "data": {
      "text/plain": [
       "===============================================================================================\n",
       "Layer (type:depth-idx)                        Output Shape              Param #\n",
       "===============================================================================================\n",
       "├─Sequential: 1-1                             [-1, 1280, 7, 7]          --\n",
       "|    └─Conv2dNormActivation: 2-1              [-1, 32, 112, 112]        --\n",
       "|    |    └─Conv2d: 3-1                       [-1, 32, 112, 112]        864\n",
       "|    |    └─BatchNorm2d: 3-2                  [-1, 32, 112, 112]        64\n",
       "|    |    └─SiLU: 3-3                         [-1, 32, 112, 112]        --\n",
       "|    └─Sequential: 2-2                        [-1, 16, 112, 112]        --\n",
       "|    |    └─MBConv: 3-4                       [-1, 16, 112, 112]        1,448\n",
       "|    └─Sequential: 2-3                        [-1, 24, 56, 56]          --\n",
       "|    |    └─MBConv: 3-5                       [-1, 24, 56, 56]          6,004\n",
       "|    |    └─MBConv: 3-6                       [-1, 24, 56, 56]          10,710\n",
       "|    └─Sequential: 2-4                        [-1, 40, 28, 28]          --\n",
       "|    |    └─MBConv: 3-7                       [-1, 40, 28, 28]          15,350\n",
       "|    |    └─MBConv: 3-8                       [-1, 40, 28, 28]          31,290\n",
       "|    └─Sequential: 2-5                        [-1, 80, 14, 14]          --\n",
       "|    |    └─MBConv: 3-9                       [-1, 80, 14, 14]          37,130\n",
       "|    |    └─MBConv: 3-10                      [-1, 80, 14, 14]          102,900\n",
       "|    |    └─MBConv: 3-11                      [-1, 80, 14, 14]          102,900\n",
       "|    └─Sequential: 2-6                        [-1, 112, 14, 14]         --\n",
       "|    |    └─MBConv: 3-12                      [-1, 112, 14, 14]         126,004\n",
       "|    |    └─MBConv: 3-13                      [-1, 112, 14, 14]         208,572\n",
       "|    |    └─MBConv: 3-14                      [-1, 112, 14, 14]         208,572\n",
       "|    └─Sequential: 2-7                        [-1, 192, 7, 7]           --\n",
       "|    |    └─MBConv: 3-15                      [-1, 192, 7, 7]           262,492\n",
       "|    |    └─MBConv: 3-16                      [-1, 192, 7, 7]           587,952\n",
       "|    |    └─MBConv: 3-17                      [-1, 192, 7, 7]           587,952\n",
       "|    |    └─MBConv: 3-18                      [-1, 192, 7, 7]           587,952\n",
       "|    └─Sequential: 2-8                        [-1, 320, 7, 7]           --\n",
       "|    |    └─MBConv: 3-19                      [-1, 320, 7, 7]           717,232\n",
       "|    └─Conv2dNormActivation: 2-9              [-1, 1280, 7, 7]          --\n",
       "|    |    └─Conv2d: 3-20                      [-1, 1280, 7, 7]          409,600\n",
       "|    |    └─BatchNorm2d: 3-21                 [-1, 1280, 7, 7]          2,560\n",
       "|    |    └─SiLU: 3-22                        [-1, 1280, 7, 7]          --\n",
       "├─AdaptiveAvgPool2d: 1-2                      [-1, 1280, 1, 1]          --\n",
       "├─Sequential: 1-3                             [-1, 1000]                --\n",
       "|    └─Dropout: 2-10                          [-1, 1280]                --\n",
       "|    └─Linear: 2-11                           [-1, 1000]                1,281,000\n",
       "===============================================================================================\n",
       "Total params: 5,288,548\n",
       "Trainable params: 5,288,548\n",
       "Non-trainable params: 0\n",
       "Total mult-adds (M): 48.55\n",
       "===============================================================================================\n",
       "Input size (MB): 0.57\n",
       "Forward/backward pass size (MB): 7.09\n",
       "Params size (MB): 20.17\n",
       "Estimated Total Size (MB): 27.84\n",
       "==============================================================================================="
      ]
     },
     "execution_count": 3,
     "metadata": {},
     "output_type": "execute_result"
    }
   ],
   "execution_count": 3
  },
  {
   "metadata": {
    "ExecuteTime": {
     "end_time": "2025-06-04T14:47:31.240234Z",
     "start_time": "2025-06-04T14:47:31.237234Z"
    }
   },
   "cell_type": "code",
   "source": [
    "num_features = model.classifier[1].in_features\n",
    "num_classes = 10\n",
    "\n",
    "model.classifier = nn.Sequential(\n",
    "        nn.Dropout(0.2),\n",
    "        nn.Linear(num_features, num_classes)\n",
    "    )"
   ],
   "id": "685d5f431c3af838",
   "outputs": [],
   "execution_count": 4
  },
  {
   "metadata": {},
   "cell_type": "markdown",
   "source": "Stage 1: Freeze base model parameters and train only the classifier head",
   "id": "93b0d022c1fd0794"
  },
  {
   "metadata": {
    "ExecuteTime": {
     "end_time": "2025-06-04T14:47:31.245219Z",
     "start_time": "2025-06-04T14:47:31.240738Z"
    }
   },
   "cell_type": "code",
   "source": [
    "for param in model.parameters():\n",
    "    param.requires_grad = False\n",
    "    \n",
    "for param in model.classifier.parameters():\n",
    "    param.requires_grad = True"
   ],
   "id": "b60f23083ed79677",
   "outputs": [],
   "execution_count": 5
  },
  {
   "metadata": {
    "ExecuteTime": {
     "end_time": "2025-06-04T14:53:22.434920Z",
     "start_time": "2025-06-04T14:47:31.245219Z"
    }
   },
   "cell_type": "code",
   "source": [
    "from src.modeling.train import train_model\n",
    "\n",
    "model, history1 = train_model(model, train_loader, val_loader, num_epochs=5)"
   ],
   "id": "72e4706c6a6dedab",
   "outputs": [
    {
     "name": "stderr",
     "output_type": "stream",
     "text": [
      "Epoch 1/5: 100%|██████████| 750/750 [00:56<00:00, 13.30it/s]\n"
     ]
    },
    {
     "name": "stdout",
     "output_type": "stream",
     "text": [
      "Epoch [1/5]:\n",
      "  Train Loss: 0.6627, Train Acc: 79.02%\n",
      "  Val Loss: 0.4350, Val Acc: 84.67%\n"
     ]
    },
    {
     "name": "stderr",
     "output_type": "stream",
     "text": [
      "Epoch 2/5: 100%|██████████| 750/750 [00:57<00:00, 12.96it/s]\n"
     ]
    },
    {
     "name": "stdout",
     "output_type": "stream",
     "text": [
      "Epoch [2/5]:\n",
      "  Train Loss: 0.4788, Train Acc: 83.29%\n",
      "  Val Loss: 0.4024, Val Acc: 85.91%\n"
     ]
    },
    {
     "name": "stderr",
     "output_type": "stream",
     "text": [
      "Epoch 3/5: 100%|██████████| 750/750 [00:56<00:00, 13.31it/s]\n"
     ]
    },
    {
     "name": "stdout",
     "output_type": "stream",
     "text": [
      "Epoch [3/5]:\n",
      "  Train Loss: 0.4490, Train Acc: 84.10%\n",
      "  Val Loss: 0.3870, Val Acc: 86.12%\n"
     ]
    },
    {
     "name": "stderr",
     "output_type": "stream",
     "text": [
      "Epoch 4/5: 100%|██████████| 750/750 [00:58<00:00, 12.90it/s]\n"
     ]
    },
    {
     "name": "stdout",
     "output_type": "stream",
     "text": [
      "Epoch [4/5]:\n",
      "  Train Loss: 0.4407, Train Acc: 84.22%\n",
      "  Val Loss: 0.3870, Val Acc: 86.08%\n"
     ]
    },
    {
     "name": "stderr",
     "output_type": "stream",
     "text": [
      "Epoch 5/5: 100%|██████████| 750/750 [00:56<00:00, 13.29it/s]\n"
     ]
    },
    {
     "name": "stdout",
     "output_type": "stream",
     "text": [
      "Epoch [5/5]:\n",
      "  Train Loss: 0.4240, Train Acc: 84.88%\n",
      "  Val Loss: 0.3703, Val Acc: 86.72%\n"
     ]
    }
   ],
   "execution_count": 6
  },
  {
   "metadata": {
    "ExecuteTime": {
     "end_time": "2025-06-04T14:53:22.438176Z",
     "start_time": "2025-06-04T14:53:22.435924Z"
    }
   },
   "cell_type": "code",
   "source": "",
   "id": "5bf46d8effcaa91b",
   "outputs": [],
   "execution_count": 6
  },
  {
   "metadata": {},
   "cell_type": "markdown",
   "source": "Stage 2: Unfreeze and fine-tune the entire model ",
   "id": "4d92a7d7600a429"
  },
  {
   "metadata": {
    "ExecuteTime": {
     "end_time": "2025-06-04T14:53:22.442813Z",
     "start_time": "2025-06-04T14:53:22.439181Z"
    }
   },
   "cell_type": "code",
   "source": [
    "for param in model.parameters():\n",
    "    param.requires_grad = True"
   ],
   "id": "23db567b824dc8d7",
   "outputs": [],
   "execution_count": 7
  },
  {
   "metadata": {
    "ExecuteTime": {
     "end_time": "2025-06-04T15:04:10.449642Z",
     "start_time": "2025-06-04T14:53:22.443824Z"
    }
   },
   "cell_type": "code",
   "source": [
    "model, history2 = train_model(model, train_loader, val_loader, \n",
    "                                 num_epochs=5, lr=0.0001)"
   ],
   "id": "56ee18e0712e0c95",
   "outputs": [
    {
     "name": "stderr",
     "output_type": "stream",
     "text": [
      "Epoch 1/5: 100%|██████████| 750/750 [01:56<00:00,  6.46it/s]\n"
     ]
    },
    {
     "name": "stdout",
     "output_type": "stream",
     "text": [
      "Epoch [1/5]:\n",
      "  Train Loss: 0.2823, Train Acc: 89.97%\n",
      "  Val Loss: 0.2005, Val Acc: 92.81%\n"
     ]
    },
    {
     "name": "stderr",
     "output_type": "stream",
     "text": [
      "Epoch 2/5: 100%|██████████| 750/750 [01:57<00:00,  6.38it/s]\n"
     ]
    },
    {
     "name": "stdout",
     "output_type": "stream",
     "text": [
      "Epoch [2/5]:\n",
      "  Train Loss: 0.1716, Train Acc: 93.79%\n",
      "  Val Loss: 0.1896, Val Acc: 93.36%\n"
     ]
    },
    {
     "name": "stderr",
     "output_type": "stream",
     "text": [
      "Epoch 3/5: 100%|██████████| 750/750 [01:57<00:00,  6.39it/s]\n"
     ]
    },
    {
     "name": "stdout",
     "output_type": "stream",
     "text": [
      "Epoch [3/5]:\n",
      "  Train Loss: 0.1269, Train Acc: 95.40%\n",
      "  Val Loss: 0.1795, Val Acc: 93.83%\n"
     ]
    },
    {
     "name": "stderr",
     "output_type": "stream",
     "text": [
      "Epoch 4/5: 100%|██████████| 750/750 [01:56<00:00,  6.42it/s]\n"
     ]
    },
    {
     "name": "stdout",
     "output_type": "stream",
     "text": [
      "Epoch [4/5]:\n",
      "  Train Loss: 0.0969, Train Acc: 96.55%\n",
      "  Val Loss: 0.1803, Val Acc: 93.83%\n"
     ]
    },
    {
     "name": "stderr",
     "output_type": "stream",
     "text": [
      "Epoch 5/5: 100%|██████████| 750/750 [01:55<00:00,  6.50it/s]\n"
     ]
    },
    {
     "name": "stdout",
     "output_type": "stream",
     "text": [
      "Epoch [5/5]:\n",
      "  Train Loss: 0.0689, Train Acc: 97.44%\n",
      "  Val Loss: 0.1838, Val Acc: 94.27%\n"
     ]
    }
   ],
   "execution_count": 8
  },
  {
   "metadata": {
    "ExecuteTime": {
     "end_time": "2025-06-04T15:04:10.452682Z",
     "start_time": "2025-06-04T15:04:10.450649Z"
    }
   },
   "cell_type": "code",
   "source": "",
   "id": "8f159d947392dbe5",
   "outputs": [],
   "execution_count": 8
  }
 ],
 "metadata": {
  "kernelspec": {
   "display_name": "Python 3",
   "language": "python",
   "name": "python3"
  },
  "language_info": {
   "codemirror_mode": {
    "name": "ipython",
    "version": 2
   },
   "file_extension": ".py",
   "mimetype": "text/x-python",
   "name": "python",
   "nbconvert_exporter": "python",
   "pygments_lexer": "ipython2",
   "version": "2.7.6"
  }
 },
 "nbformat": 4,
 "nbformat_minor": 5
}
